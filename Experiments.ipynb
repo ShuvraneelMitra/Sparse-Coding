{
 "cells": [
  {
   "cell_type": "code",
   "execution_count": 1,
   "metadata": {},
   "outputs": [],
   "source": [
    "from collections import defaultdict\n",
    "\n",
    "import numpy as np\n",
    "import torch\n",
    "import torch.nn as nn\n",
    "import torch.optim as optim\n",
    "import torchvision\n",
    "from torch.utils.data import DataLoader, TensorDataset, Subset\n",
    "from torchvision.datasets import MNIST\n",
    "from torchvision import transforms"
   ]
  },
  {
   "cell_type": "code",
   "execution_count": null,
   "metadata": {},
   "outputs": [],
   "source": [
    "import time\n",
    "from utils import show_img, extract_patches, display_patches\n",
    "import inference\n",
    "from sparseCoding import learn_representations"
   ]
  },
  {
   "cell_type": "code",
   "execution_count": 3,
   "metadata": {},
   "outputs": [],
   "source": [
    "MEAN = 0.1307\n",
    "STD = 0.3081\n",
    "transform = transforms.Compose([transforms.ToTensor(), transforms.Normalize(MEAN, STD)])\n",
    "mnist = MNIST(root='./data', train=True, download=True, transform=transform)\n",
    "train = Subset(mnist, indices=range(len(mnist) // 100))\n",
    "train_loader = DataLoader(train, batch_size=1, shuffle=False)"
   ]
  },
  {
   "cell_type": "markdown",
   "metadata": {},
   "source": [
    "SANITY CHECK"
   ]
  },
  {
   "cell_type": "code",
   "execution_count": 4,
   "metadata": {},
   "outputs": [
    {
     "data": {
      "image/png": "[encoded data removed]",
      "text/plain": [
       "<Figure size 640x480 with 1 Axes>"
      ]
     },
     "metadata": {},
     "output_type": "display_data"
    },
    {
     "data": {
      "image/png": "[encoded data removed]",
      "text/plain": [
       "<Figure size 1500x500 with 10 Axes>"
      ]
     },
     "metadata": {},
     "output_type": "display_data"
    }
   ],
   "source": [
    "dataiter = iter(train_loader)\n",
    "images, labels = next(dataiter)\n",
    "img_grid = torchvision.utils.make_grid(images)\n",
    "show_img(img_grid, MEAN, STD)\n",
    "patches = extract_patches(train)\n",
    "display_patches(patches)"
   ]
  },
  {
   "cell_type": "code",
   "execution_count": null,
   "metadata": {},
   "outputs": [],
   "source": [
    "times = defaultdict(lambda: 0)\n",
    "\n",
    "for data in train_loader:\n",
    "    data = data[0].squeeze().flatten()\n",
    "    D = torch.randn((784, 784))\n",
    "\n",
    "    start = time.time()\n",
    "    h1 = inference.ISTA(data, 784, D)\n",
    "    times['ista'] += time.time() - start\n",
    "\n",
    "    start = time.time()\n",
    "    h2 = inference.FISTA(data, 784, D)\n",
    "    times['fista'] += time.time() - start\n",
    "\n",
    "    start = time.time()\n",
    "    h3 = inference.CoD(data, 784, D)\n",
    "    times['coordinate_descent'] += time.time() - start\n",
    "\n",
    "print(f\"Average time taken in ISTA = {times['ista']/len(train_loader)}\")\n",
    "print(f\"Average time taken in FISTA = {times['fista']/len(train_loader)}\")\n",
    "print(f\"Average time taken in Coordinate Descent = {times['coordinate_descent']/len(train_loader)}\")"
   ]
  },
  {
   "cell_type": "code",
   "execution_count": null,
   "metadata": {},
   "outputs": [],
   "source": [
    "x_dim = 100\n",
    "hidden_dim = 50\n",
    "T = 10\n",
    "NUM_EPOCHS = 20\n",
    "LEARNING_RATE = 0.001\n",
    "\n",
    "model = inference.LISTA(T=T, x_dim=x_dim, hidden_dim=hidden_dim)\n",
    "criterion = nn.MSELoss()\n",
    "optimizer = optim.Adam(model.parameters(), lr=LEARNING_RATE)\n",
    "\n",
    "model.train()\n",
    "for epoch in range(NUM_EPOCHS):\n",
    "    epoch_loss = 0.0\n",
    "    for x, _ in train_loader:\n",
    "\n",
    "        z_pred = model(x_batch)\n",
    "        loss = criterion(z_pred, z_batch)\n",
    "        optimizer.zero_grad()\n",
    "        loss.backward()\n",
    "        optimizer.step()\n",
    "\n",
    "        epoch_loss += loss.item()\n",
    "\n",
    "    if epoch % 100 == 0:\n",
    "        print(f\"Epoch {epoch + 1}/{NUM_EPOCHS}, Loss: {epoch_loss / len(train_loader):.6f}\")\n"
   ]
  }
 ],
 "metadata": {
  "kernelspec": {
   "display_name": "Python 3",
   "language": "python",
   "name": "python3"
  },
  "language_info": {
   "codemirror_mode": {
    "name": "ipython",
    "version": 3
   },
   "file_extension": ".py",
   "mimetype": "text/x-python",
   "name": "python",
   "nbconvert_exporter": "python",
   "pygments_lexer": "ipython3",
   "version": "3.8.10"
  }
 },
 "nbformat": 4,
 "nbformat_minor": 2
}
