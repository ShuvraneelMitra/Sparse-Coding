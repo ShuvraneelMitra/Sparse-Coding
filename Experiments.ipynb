{
 "cells": [
  {
   "cell_type": "code",
   "execution_count": 1,
   "metadata": {},
   "outputs": [],
   "source": [
    "from collections import defaultdict\n",
    "\n",
    "import numpy as np\n",
    "import torch\n",
    "import torch.nn as nn\n",
    "import torch.optim as optim\n",
    "import torchvision\n",
    "from torch.utils.data import DataLoader, TensorDataset, Subset\n",
    "from torchvision.datasets import MNIST\n",
    "from torchvision import transforms"
   ]
  },
  {
   "cell_type": "code",
   "execution_count": 2,
   "metadata": {},
   "outputs": [],
   "source": [
    "import time\n",
    "from utils import show_img, extract_patches, display_patches\n",
    "import inference\n",
    "from sparseCoding import learn_representations"
   ]
  },
  {
   "cell_type": "code",
   "execution_count": 3,
   "metadata": {},
   "outputs": [],
   "source": [
    "MEAN = 0.1307\n",
    "STD = 0.3081\n",
    "transform = transforms.Compose([transforms.ToTensor(), transforms.Normalize(MEAN, STD)])\n",
    "mnist = MNIST(root='./data', train=True, download=True, transform=transform)\n",
    "train = Subset(mnist, indices=range(len(mnist) // 100))\n",
    "train_loader = DataLoader(train, batch_size=1, shuffle=False)"
   ]
  },
  {
   "cell_type": "markdown",
   "metadata": {},
   "source": [
    "SANITY CHECK"
   ]
  },
  {
   "cell_type": "code",
   "execution_count": 4,
   "metadata": {},
   "outputs": [
    {
     "data": {
      "image/png": "[encoded data removed]",
      "text/plain": [
       "<Figure size 640x480 with 1 Axes>"
      ]
     },
     "metadata": {},
     "output_type": "display_data"
    },
    {
     "data": {
      "image/png": "[encoded data removed]",
      "text/plain": [
       "<Figure size 1500x500 with 10 Axes>"
      ]
     },
     "metadata": {},
     "output_type": "display_data"
    }
   ],
   "source": [
    "dataiter = iter(train_loader)\n",
    "images, labels = next(dataiter)\n",
    "img_grid = torchvision.utils.make_grid(images)\n",
    "show_img(img_grid, MEAN, STD)\n",
    "patches = extract_patches(train)\n",
    "display_patches(patches)"
   ]
  },
  {
   "cell_type": "code",
   "execution_count": 6,
   "metadata": {},
   "outputs": [
    {
     "name": "stdout",
     "output_type": "stream",
     "text": [
      "Coordinate Descent iteration 0: change=17288.45703125\n",
      "0\n",
      "Coordinate Descent iteration 0: change=17382.078125\n",
      "Coordinate Descent iteration 0: change=14507.048828125\n",
      "Coordinate Descent iteration 0: change=14508.41015625\n",
      "Coordinate Descent iteration 0: change=16144.8125\n",
      "Coordinate Descent iteration 0: change=16598.1171875\n",
      "Coordinate Descent iteration 0: change=14615.7099609375\n",
      "Coordinate Descent iteration 0: change=19436.85546875\n",
      "Coordinate Descent iteration 0: change=12820.8544921875\n",
      "Coordinate Descent iteration 0: change=16083.923828125\n",
      "Coordinate Descent iteration 0: change=18390.6875\n",
      "Coordinate Descent iteration 0: change=12871.896484375\n",
      "Coordinate Descent iteration 0: change=18494.18359375\n",
      "Coordinate Descent iteration 0: change=17013.78515625\n",
      "Coordinate Descent iteration 0: change=12265.85546875\n",
      "Coordinate Descent iteration 0: change=16800.38671875\n",
      "Coordinate Descent iteration 0: change=16212.8388671875\n",
      "Coordinate Descent iteration 0: change=16858.357421875\n",
      "Coordinate Descent iteration 0: change=12701.4228515625\n",
      "Coordinate Descent iteration 0: change=14413.037109375\n",
      "Coordinate Descent iteration 0: change=20035.15625\n",
      "Coordinate Descent iteration 0: change=20184.837890625\n",
      "Coordinate Descent iteration 0: change=13816.564453125\n",
      "Coordinate Descent iteration 0: change=13752.24609375\n",
      "Coordinate Descent iteration 0: change=15280.65234375\n",
      "Coordinate Descent iteration 0: change=20463.0\n",
      "Coordinate Descent iteration 0: change=12409.033203125\n",
      "Coordinate Descent iteration 0: change=22627.19140625\n",
      "Coordinate Descent iteration 0: change=20624.59375\n",
      "Coordinate Descent iteration 0: change=13603.447265625\n",
      "Coordinate Descent iteration 0: change=16461.59375\n",
      "Coordinate Descent iteration 0: change=18701.046875\n",
      "Coordinate Descent iteration 0: change=13561.2421875\n",
      "Coordinate Descent iteration 0: change=15515.15234375\n",
      "Coordinate Descent iteration 0: change=20598.986328125\n",
      "Coordinate Descent iteration 0: change=13471.1953125\n",
      "Coordinate Descent iteration 0: change=18278.126953125\n",
      "Coordinate Descent iteration 0: change=20320.890625\n",
      "Coordinate Descent iteration 0: change=15337.376953125\n",
      "Coordinate Descent iteration 0: change=16495.654296875\n",
      "Coordinate Descent iteration 0: change=13280.328125\n",
      "Coordinate Descent iteration 0: change=17916.50390625\n",
      "Coordinate Descent iteration 0: change=12672.2890625\n",
      "Coordinate Descent iteration 0: change=14123.1376953125\n",
      "Coordinate Descent iteration 0: change=13922.1826171875\n",
      "Coordinate Descent iteration 0: change=16177.8515625\n",
      "Coordinate Descent iteration 0: change=15145.3447265625\n",
      "Coordinate Descent iteration 0: change=16946.841796875\n",
      "Coordinate Descent iteration 0: change=12998.63671875\n",
      "Coordinate Descent iteration 0: change=17527.5703125\n",
      "Coordinate Descent iteration 0: change=14979.8671875\n",
      "Coordinate Descent iteration 0: change=22407.041015625\n",
      "Coordinate Descent iteration 0: change=17780.765625\n",
      "Coordinate Descent iteration 0: change=13628.7919921875\n",
      "Coordinate Descent iteration 0: change=16350.224609375\n",
      "Coordinate Descent iteration 0: change=18463.189453125\n",
      "Coordinate Descent iteration 0: change=22327.951171875\n"
     ]
    },
    {
     "ename": "KeyboardInterrupt",
     "evalue": "",
     "output_type": "error",
     "traceback": [
      "\u001b[0;31m---------------------------------------------------------------------------\u001b[0m",
      "\u001b[0;31mKeyboardInterrupt\u001b[0m                         Traceback (most recent call last)",
      "Cell \u001b[0;32mIn[6], line 31\u001b[0m\n\u001b[1;32m     29\u001b[0m \u001b[38;5;28;01mfor\u001b[39;00m i, data \u001b[38;5;129;01min\u001b[39;00m \u001b[38;5;28menumerate\u001b[39m(train_loader):\n\u001b[1;32m     30\u001b[0m     data \u001b[38;5;241m=\u001b[39m data[\u001b[38;5;241m0\u001b[39m]\u001b[38;5;241m.\u001b[39msqueeze()\u001b[38;5;241m.\u001b[39mflatten()\n\u001b[0;32m---> 31\u001b[0m     D \u001b[38;5;241m=\u001b[39m \u001b[43mtorch\u001b[49m\u001b[38;5;241;43m.\u001b[39;49m\u001b[43mrandn\u001b[49m\u001b[43m(\u001b[49m\u001b[43m(\u001b[49m\u001b[38;5;241;43m784\u001b[39;49m\u001b[43m,\u001b[49m\u001b[43m \u001b[49m\u001b[38;5;241;43m784\u001b[39;49m\u001b[43m)\u001b[49m\u001b[43m)\u001b[49m\n\u001b[1;32m     33\u001b[0m     start \u001b[38;5;241m=\u001b[39m time\u001b[38;5;241m.\u001b[39mtime()\n\u001b[1;32m     34\u001b[0m     h3 \u001b[38;5;241m=\u001b[39m inference\u001b[38;5;241m.\u001b[39mCoD(data, \u001b[38;5;241m784\u001b[39m, D, frequency\u001b[38;5;241m=\u001b[39m\u001b[38;5;241m50\u001b[39m)\n",
      "\u001b[0;31mKeyboardInterrupt\u001b[0m: "
     ]
    }
   ],
   "source": [
    "times = defaultdict(lambda: 0)\n",
    "\n",
    "# for i, data in enumerate(train_loader):\n",
    "#     data = data[0].squeeze().flatten()\n",
    "#     D = torch.randn((784, 784))\n",
    "\n",
    "#     start = time.time()\n",
    "#     h1 = inference.ISTA(data, 784, D)\n",
    "#     times['ista'] += time.time() - start\n",
    "    \n",
    "#     if i % 100 == 0:\n",
    "#         print(i)\n",
    "\n",
    "# print(f\"Average time taken in ISTA = {times['ista']/len(train_loader)}\")\n",
    "\n",
    "# for i, data in enumerate(train_loader):\n",
    "#     data = data[0].squeeze().flatten()\n",
    "#     D = torch.randn((784, 784))\n",
    "    \n",
    "#     start = time.time()\n",
    "#     h2 = inference.FISTA(data, 784, D)\n",
    "#     times['fista'] += time.time() - start\n",
    "    \n",
    "#     if i % 100 == 0:\n",
    "#         print(i)\n",
    "\n",
    "# print(f\"Average time taken in FISTA = {times['fista']/len(train_loader)}\")\n",
    "\n",
    "for i, data in enumerate(train_loader):\n",
    "    data = data[0].squeeze().flatten()\n",
    "    D = torch.randn((784, 784))\n",
    "    \n",
    "    start = time.time()\n",
    "    h3 = inference.CoD(data, 784, D, frequency=50)\n",
    "    times['coordinate_descent'] += time.time() - start\n",
    "    \n",
    "    if i % 100 == 0:\n",
    "        print(i)\n",
    "\n",
    "print(f\"Average time taken in Coordinate Descent = {times['coordinate_descent']/len(train_loader)}\")"
   ]
  },
  {
   "cell_type": "code",
   "execution_count": null,
   "metadata": {},
   "outputs": [],
   "source": []
  }
 ],
 "metadata": {
  "kernelspec": {
   "display_name": "Python 3",
   "language": "python",
   "name": "python3"
  },
  "language_info": {
   "codemirror_mode": {
    "name": "ipython",
    "version": 3
   },
   "file_extension": ".py",
   "mimetype": "text/x-python",
   "name": "python",
   "nbconvert_exporter": "python",
   "pygments_lexer": "ipython3",
   "version": "3.8.10"
  }
 },
 "nbformat": 4,
 "nbformat_minor": 2
}
